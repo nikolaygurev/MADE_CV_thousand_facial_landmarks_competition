{
 "cells": [
  {
   "cell_type": "code",
   "execution_count": 1,
   "metadata": {},
   "outputs": [],
   "source": [
    "import numpy as np\n",
    "import pandas as pd"
   ]
  },
  {
   "cell_type": "code",
   "execution_count": 2,
   "metadata": {},
   "outputs": [
    {
     "name": "stdout",
     "output_type": "stream",
     "text": [
      "CPU times: user 1min 3s, sys: 15.4 s, total: 1min 19s\n",
      "Wall time: 1min 21s\n"
     ]
    }
   ],
   "source": [
    "%time df = pd.read_csv(\"data/train/landmarks.csv\", sep=\"\\t\")"
   ]
  },
  {
   "cell_type": "code",
   "execution_count": 3,
   "metadata": {},
   "outputs": [
    {
     "data": {
      "text/plain": [
       "(393930, 1943)"
      ]
     },
     "execution_count": 3,
     "metadata": {},
     "output_type": "execute_result"
    }
   ],
   "source": [
    "df.shape"
   ]
  },
  {
   "cell_type": "code",
   "execution_count": 31,
   "metadata": {},
   "outputs": [
    {
     "name": "stdout",
     "output_type": "stream",
     "text": [
      "n_rows: 393930\n",
      "train frac: 0.8\n",
      "\n",
      "Exact n_train_rows: 315144\n",
      "Exact n_val_rows: 78786\n",
      "\n",
      "Used n_train_rows: 315377\n",
      "Used n_val_rows: 78553\n"
     ]
    }
   ],
   "source": [
    "N_ROWS = df.shape[0]\n",
    "TRAIN_FRAC = 0.8\n",
    "exact_n_train_rows = int(TRAIN_FRAC * N_ROWS)\n",
    "exact_n_val_rows = N_ROWS - exact_n_train_rows\n",
    "\n",
    "print(f\"n_rows: {N_ROWS}\")\n",
    "print(f\"train frac: {TRAIN_FRAC}\\n\")\n",
    "print(f\"Exact n_train_rows: {exact_n_train_rows}\")\n",
    "print(f\"Exact n_val_rows: {exact_n_val_rows}\\n\")\n",
    "\n",
    "train_indices = set()\n",
    "val_indices = set()\n",
    "\n",
    "for i in range(N_ROWS):\n",
    "    if np.random.rand() < TRAIN_FRAC:\n",
    "        train_indices.add(i)\n",
    "    else:\n",
    "        val_indices.add(i)\n",
    "\n",
    "print(f\"Used n_train_rows: {len(train_indices)}\")\n",
    "print(f\"Used n_val_rows: {len(val_indices)}\")\n",
    "\n",
    "assert not (train_indices & val_indices)\n",
    "assert sorted(train_indices | val_indices) == list(range(N_ROWS))"
   ]
  },
  {
   "cell_type": "code",
   "execution_count": 32,
   "metadata": {},
   "outputs": [
    {
     "data": {
      "text/plain": [
       "<matplotlib.axes._subplots.AxesSubplot at 0x128e75b50>"
      ]
     },
     "execution_count": 32,
     "metadata": {},
     "output_type": "execute_result"
    },
    {
     "data": {
      "image/png": "[encoded data removed]",
      "text/plain": [
       "<Figure size 432x288 with 1 Axes>"
      ]
     },
     "metadata": {
      "needs_background": "light"
     },
     "output_type": "display_data"
    }
   ],
   "source": [
    "pd.Series(list(train_indices)).hist(bins=50)"
   ]
  },
  {
   "cell_type": "code",
   "execution_count": 33,
   "metadata": {},
   "outputs": [
    {
     "data": {
      "text/plain": [
       "<matplotlib.axes._subplots.AxesSubplot at 0x129022340>"
      ]
     },
     "execution_count": 33,
     "metadata": {},
     "output_type": "execute_result"
    },
    {
     "data": {
      "image/png": "[encoded data removed]",
      "text/plain": [
       "<Figure size 432x288 with 1 Axes>"
      ]
     },
     "metadata": {
      "needs_background": "light"
     },
     "output_type": "display_data"
    }
   ],
   "source": [
    "pd.Series(list(val_indices)).hist(bins=50)"
   ]
  },
  {
   "cell_type": "code",
   "execution_count": null,
   "metadata": {},
   "outputs": [],
   "source": []
  },
  {
   "cell_type": "code",
   "execution_count": 34,
   "metadata": {},
   "outputs": [],
   "source": [
    "with open(\"train_indices.txt\", \"w\") as train_file:\n",
    "    train_file.write(\",\".join(map(str, train_indices)))\n",
    "\n",
    "with open(\"val_indices.txt\", \"w\") as val_file:\n",
    "    val_file.write(\",\".join(map(str, val_indices)))"
   ]
  },
  {
   "cell_type": "code",
   "execution_count": 35,
   "metadata": {},
   "outputs": [],
   "source": [
    "with open(\"train_indices.txt\", \"r\") as train_file:\n",
    "    train_indices_new = train_file.read().split(\",\")\n",
    "    train_indices_new = set(map(int, train_indices_new))\n",
    "    assert train_indices_new == train_indices\n",
    "\n",
    "with open(\"val_indices.txt\", \"r\") as val_file:\n",
    "    val_indices_new = val_file.read().split(\",\")\n",
    "    val_indices_new = set(map(int, val_indices_new))\n",
    "    assert val_indices_new == val_indices"
   ]
  },
  {
   "cell_type": "code",
   "execution_count": null,
   "metadata": {},
   "outputs": [],
   "source": []
  }
 ],
 "metadata": {
  "kernelspec": {
   "display_name": "Python 3",
   "language": "python",
   "name": "python3"
  },
  "language_info": {
   "codemirror_mode": {
    "name": "ipython",
    "version": 3
   },
   "file_extension": ".py",
   "mimetype": "text/x-python",
   "name": "python",
   "nbconvert_exporter": "python",
   "pygments_lexer": "ipython3",
   "version": "3.8.1"
  }
 },
 "nbformat": 4,
 "nbformat_minor": 4
}
