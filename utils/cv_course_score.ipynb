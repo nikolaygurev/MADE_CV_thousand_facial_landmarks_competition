{
 "cells": [
  {
   "cell_type": "code",
   "execution_count": 1,
   "metadata": {},
   "outputs": [],
   "source": [
    "import numpy as np"
   ]
  },
  {
   "cell_type": "code",
   "execution_count": 2,
   "metadata": {},
   "outputs": [],
   "source": [
    "def CV_course_score(LB_score):\n",
    "    return CONST_A * np.exp(CONST_B * LB_score) "
   ]
  },
  {
   "cell_type": "code",
   "execution_count": 3,
   "metadata": {},
   "outputs": [
    {
     "name": "stdout",
     "output_type": "stream",
     "text": [
      "-0.0541964079772452\n",
      "78.21699696810947\n"
     ]
    }
   ],
   "source": [
    "baseline_LB_score = 80.43867\n",
    "best_LB_score = 8.25634  # fifth place\n",
    "\n",
    "# CV_course_score(baseline_LB_score) = 1\n",
    "# CV_course_score(best_LB_score) = 50\n",
    "\n",
    "# CONST_A * np.exp(CONST_B * baseline_LB_score) = 1\n",
    "# CONST_A * np.exp(CONST_B * best_LB_score) = 50\n",
    "\n",
    "CONST_B = np.log(50) / (best_LB_score - baseline_LB_score)\n",
    "CONST_A = 1 / np.exp(CONST_B * baseline_LB_score)\n",
    "\n",
    "print(CONST_B)\n",
    "print(CONST_A)"
   ]
  },
  {
   "cell_type": "code",
   "execution_count": 4,
   "metadata": {},
   "outputs": [
    {
     "data": {
      "text/plain": [
       "47.96433012664689"
      ]
     },
     "execution_count": 4,
     "metadata": {},
     "output_type": "execute_result"
    }
   ],
   "source": [
    "my_LB_score = 9.02328\n",
    "CV_course_score(my_LB_score)"
   ]
  },
  {
   "cell_type": "code",
   "execution_count": null,
   "metadata": {},
   "outputs": [],
   "source": []
  }
 ],
 "metadata": {
  "kernelspec": {
   "display_name": "Python 3",
   "language": "python",
   "name": "python3"
  },
  "language_info": {
   "codemirror_mode": {
    "name": "ipython",
    "version": 3
   },
   "file_extension": ".py",
   "mimetype": "text/x-python",
   "name": "python",
   "nbconvert_exporter": "python",
   "pygments_lexer": "ipython3",
   "version": "3.8.1"
  }
 },
 "nbformat": 4,
 "nbformat_minor": 4
}
