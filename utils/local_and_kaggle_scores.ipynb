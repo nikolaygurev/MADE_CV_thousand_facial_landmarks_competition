{
 "cells": [
  {
   "cell_type": "code",
   "execution_count": 1,
   "metadata": {},
   "outputs": [],
   "source": [
    "import matplotlib.pyplot as plt\n",
    "import numpy as np\n",
    "import pandas as pd\n",
    "\n",
    "%matplotlib inline"
   ]
  },
  {
   "cell_type": "code",
   "execution_count": 2,
   "metadata": {},
   "outputs": [],
   "source": [
    "pd.set_option('display.max_columns', None)"
   ]
  },
  {
   "cell_type": "code",
   "execution_count": 3,
   "metadata": {},
   "outputs": [],
   "source": [
    "df = pd.read_csv(\"experiments.csv\", sep=\";\", header=[1], index_col=0, na_values=\"–\")"
   ]
  },
  {
   "cell_type": "code",
   "execution_count": 4,
   "metadata": {},
   "outputs": [
    {
     "data": {
      "text/html": [
       "<div>\n",
       "<style scoped>\n",
       "    .dataframe tbody tr th:only-of-type {\n",
       "        vertical-align: middle;\n",
       "    }\n",
       "\n",
       "    .dataframe tbody tr th {\n",
       "        vertical-align: top;\n",
       "    }\n",
       "\n",
       "    .dataframe thead th {\n",
       "        text-align: right;\n",
       "    }\n",
       "</style>\n",
       "<table border=\"1\" class=\"dataframe\">\n",
       "  <thead>\n",
       "    <tr style=\"text-align: right;\">\n",
       "      <th></th>\n",
       "      <th>Description (white and grey colours show  ",
       "experiment groups – for convenience only)</th>\n",
       "      <th>File with scores (same files mean ",
       "exactly the same model training)</th>\n",
       "      <th>Split into train/validation ",
       "(old is not shuffled, new is shuffled)</th>\n",
       "      <th>Train random fraction ",
       "of all train data</th>\n",
       "      <th>Validation random fraction ",
       "of all validation data</th>\n",
       "      <th>Version (same values mean ",
       "exactly the same dataset)</th>\n",
       "      <th>Batch size</th>\n",
       "      <th>Model</th>\n",
       "      <th>Is pretrained</th>\n",
       "      <th>Trainable parameters</th>\n",
       "      <th>Optimizer</th>\n",
       "      <th>Lr scheduler</th>\n",
       "      <th>N_epochs</th>\n",
       "      <th>Best epoch ",
       "(0 &lt;= x &lt;= N_epoch – 1)</th>\n",
       "      <th>Best validation score</th>\n",
       "      <th>Approximate train time ",
       "(sec/epoch)</th>\n",
       "      <th>Approximate validation time ",
       "(sec/epoch)</th>\n",
       "      <th>Private score</th>\n",
       "      <th>Public score</th>\n",
       "      <th>Is submit correct rounding ",
       "(np.around().astype(np.int) instead of astype(np.int))</th>\n",
       "      <th>Submit name</th>\n",
       "      <th>Is late submit</th>\n",
       "    </tr>\n",
       "  </thead>\n",
       "  <tbody>\n",
       "    <tr>\n",
       "      <th>0</th>\n",
       "      <td>Resnet18 first approach</td>\n",
       "      <td>NaN</td>\n",
       "      <td>Old</td>\n",
       "      <td>0.1</td>\n",
       "      <td>0.1</td>\n",
       "      <td>V1</td>\n",
       "      <td>512</td>\n",
       "      <td>resnet18</td>\n",
       "      <td>True</td>\n",
       "      <td>all</td>\n",
       "      <td>Adam(0.001)</td>\n",
       "      <td>NaN</td>\n",
       "      <td>1</td>\n",
       "      <td>0.0</td>\n",
       "      <td>NaN</td>\n",
       "      <td>NaN</td>\n",
       "      <td>NaN</td>\n",
       "      <td>1494.53465</td>\n",
       "      <td>1504.53696</td>\n",
       "      <td>False</td>\n",
       "      <td>1_baseline_submit.csv</td>\n",
       "      <td>False</td>\n",
       "    </tr>\n",
       "    <tr>\n",
       "      <th>1</th>\n",
       "      <td>Resnet18 first approach</td>\n",
       "      <td>NaN</td>\n",
       "      <td>Old</td>\n",
       "      <td>0.1</td>\n",
       "      <td>0.1</td>\n",
       "      <td>V1</td>\n",
       "      <td>512</td>\n",
       "      <td>resnet18</td>\n",
       "      <td>True</td>\n",
       "      <td>all</td>\n",
       "      <td>Adam(0.001)</td>\n",
       "      <td>NaN</td>\n",
       "      <td>20</td>\n",
       "      <td>NaN</td>\n",
       "      <td>NaN</td>\n",
       "      <td>NaN</td>\n",
       "      <td>NaN</td>\n",
       "      <td>19.13296</td>\n",
       "      <td>18.98150</td>\n",
       "      <td>False</td>\n",
       "      <td>2_submit.csv</td>\n",
       "      <td>False</td>\n",
       "    </tr>\n",
       "    <tr>\n",
       "      <th>2</th>\n",
       "      <td>Resnet18 first approach</td>\n",
       "      <td>NaN</td>\n",
       "      <td>Old</td>\n",
       "      <td>0.1</td>\n",
       "      <td>0.1</td>\n",
       "      <td>V1</td>\n",
       "      <td>512</td>\n",
       "      <td>resnet18</td>\n",
       "      <td>True</td>\n",
       "      <td>all</td>\n",
       "      <td>Adam(0.001)</td>\n",
       "      <td>NaN</td>\n",
       "      <td>40</td>\n",
       "      <td>NaN</td>\n",
       "      <td>NaN</td>\n",
       "      <td>NaN</td>\n",
       "      <td>NaN</td>\n",
       "      <td>15.26668</td>\n",
       "      <td>15.55896</td>\n",
       "      <td>False</td>\n",
       "      <td>3_submit.csv</td>\n",
       "      <td>False</td>\n",
       "    </tr>\n",
       "    <tr>\n",
       "      <th>3</th>\n",
       "      <td>Resnet18 first approach</td>\n",
       "      <td>NaN</td>\n",
       "      <td>Old</td>\n",
       "      <td>0.1</td>\n",
       "      <td>0.1</td>\n",
       "      <td>V1</td>\n",
       "      <td>512</td>\n",
       "      <td>resnet18</td>\n",
       "      <td>True</td>\n",
       "      <td>all</td>\n",
       "      <td>Adam(0.001)</td>\n",
       "      <td>NaN</td>\n",
       "      <td>60</td>\n",
       "      <td>NaN</td>\n",
       "      <td>NaN</td>\n",
       "      <td>NaN</td>\n",
       "      <td>NaN</td>\n",
       "      <td>13.87672</td>\n",
       "      <td>14.21123</td>\n",
       "      <td>False</td>\n",
       "      <td>4_submit.csv</td>\n",
       "      <td>False</td>\n",
       "    </tr>\n",
       "    <tr>\n",
       "      <th>4</th>\n",
       "      <td>Resnet18 baseline on full dataset</td>\n",
       "      <td>01.txt</td>\n",
       "      <td>Old</td>\n",
       "      <td>1.0</td>\n",
       "      <td>1.0</td>\n",
       "      <td>Full_old</td>\n",
       "      <td>512</td>\n",
       "      <td>resnet18</td>\n",
       "      <td>True</td>\n",
       "      <td>all</td>\n",
       "      <td>Adam(0.001)</td>\n",
       "      <td>NaN</td>\n",
       "      <td>20</td>\n",
       "      <td>18.0</td>\n",
       "      <td>1.99</td>\n",
       "      <td>NaN</td>\n",
       "      <td>NaN</td>\n",
       "      <td>10.32738</td>\n",
       "      <td>10.65614</td>\n",
       "      <td>False</td>\n",
       "      <td>5_submit.csv</td>\n",
       "      <td>False</td>\n",
       "    </tr>\n",
       "  </tbody>\n",
       "</table>\n",
       "</div>"
      ],
      "text/plain": [
       "  Description (white and grey colours show \n",
       "experiment groups – for convenience only)  \\\n",
       "0                            Resnet18 first approach                                    \n",
       "1                            Resnet18 first approach                                    \n",
       "2                            Resnet18 first approach                                    \n",
       "3                            Resnet18 first approach                                    \n",
       "4                  Resnet18 baseline on full dataset                                    \n",
       "\n",
       "  File with scores (same files mean\n",
       "exactly the same model training)  \\\n",
       "0                                                NaN                   \n",
       "1                                                NaN                   \n",
       "2                                                NaN                   \n",
       "3                                                NaN                   \n",
       "4                                             01.txt                   \n",
       "\n",
       "  Split into train/validation\n",
       "(old is not shuffled, new is shuffled)  \\\n",
       "0                                                Old                   \n",
       "1                                                Old                   \n",
       "2                                                Old                   \n",
       "3                                                Old                   \n",
       "4                                                Old                   \n",
       "\n",
       "   Train random fraction\n",
       "of all train data  \\\n",
       "0                                      0.1   \n",
       "1                                      0.1   \n",
       "2                                      0.1   \n",
       "3                                      0.1   \n",
       "4                                      1.0   \n",
       "\n",
       "   Validation random fraction\n",
       "of all validation data  \\\n",
       "0                                                0.1   \n",
       "1                                                0.1   \n",
       "2                                                0.1   \n",
       "3                                                0.1   \n",
       "4                                                1.0   \n",
       "\n",
       "  Version (same values mean\n",
       "exactly the same dataset)  Batch size     Model  \\\n",
       "0                                                 V1          512  resnet18   \n",
       "1                                                 V1          512  resnet18   \n",
       "2                                                 V1          512  resnet18   \n",
       "3                                                 V1          512  resnet18   \n",
       "4                                           Full_old          512  resnet18   \n",
       "\n",
       "   Is pretrained Trainable parameters    Optimizer Lr scheduler  N_epochs  \\\n",
       "0           True                  all  Adam(0.001)          NaN         1   \n",
       "1           True                  all  Adam(0.001)          NaN        20   \n",
       "2           True                  all  Adam(0.001)          NaN        40   \n",
       "3           True                  all  Adam(0.001)          NaN        60   \n",
       "4           True                  all  Adam(0.001)          NaN        20   \n",
       "\n",
       "   Best epoch\n",
       "(0 <= x <= N_epoch – 1)  Best validation score  \\\n",
       "0                                 0.0                    NaN   \n",
       "1                                 NaN                    NaN   \n",
       "2                                 NaN                    NaN   \n",
       "3                                 NaN                    NaN   \n",
       "4                                18.0                   1.99   \n",
       "\n",
       "   Approximate train time\n",
       "(sec/epoch)  \\\n",
       "0                                 NaN   \n",
       "1                                 NaN   \n",
       "2                                 NaN   \n",
       "3                                 NaN   \n",
       "4                                 NaN   \n",
       "\n",
       "   Approximate validation time\n",
       "(sec/epoch)  Private score  Public score  \\\n",
       "0                                      NaN     1494.53465    1504.53696   \n",
       "1                                      NaN       19.13296      18.98150   \n",
       "2                                      NaN       15.26668      15.55896   \n",
       "3                                      NaN       13.87672      14.21123   \n",
       "4                                      NaN       10.32738      10.65614   \n",
       "\n",
       "  Is submit correct rounding\n",
       "(np.around().astype(np.int) instead of astype(np.int))  \\\n",
       "0                                              False                                  \n",
       "1                                              False                                  \n",
       "2                                              False                                  \n",
       "3                                              False                                  \n",
       "4                                              False                                  \n",
       "\n",
       "             Submit name Is late submit  \n",
       "0  1_baseline_submit.csv          False  \n",
       "1           2_submit.csv          False  \n",
       "2           3_submit.csv          False  \n",
       "3           4_submit.csv          False  \n",
       "4           5_submit.csv          False  "
      ]
     },
     "execution_count": 4,
     "metadata": {},
     "output_type": "execute_result"
    }
   ],
   "source": [
    "df.head()"
   ]
  },
  {
   "cell_type": "markdown",
   "metadata": {},
   "source": [
    "График линейной зависимости между MSE на валидационной выборке и MSE на Public Leaderboard на Kaggle. Различие в значениях объясняетя тем, что на валидационной выборке метрика вычислялась на сжатых обрезанных изображениях."
   ]
  },
  {
   "cell_type": "code",
   "execution_count": 66,
   "metadata": {},
   "outputs": [
    {
     "data": {
      "text/plain": [
       "[<matplotlib.lines.Line2D at 0x1274363a0>]"
      ]
     },
     "execution_count": 66,
     "metadata": {},
     "output_type": "execute_result"
    },
    {
     "data": {
      "image/png": "[encoded data removed]",
      "text/plain": [
       "<Figure size 864x432 with 1 Axes>"
      ]
     },
     "metadata": {
      "needs_background": "light"
     },
     "output_type": "display_data"
    }
   ],
   "source": [
    "x_name = \"Best validation score\"\n",
    "y_name = \"Public score\"\n",
    "\n",
    "fig, ax = plt.subplots(figsize=(12, 6))\n",
    "ax.set(xlabel=x_name, ylabel=y_name)\n",
    "\n",
    "ax.scatter(df[x_name], df[y_name], marker=\"o\")\n",
    "\n",
    "x = np.arange(1.5, 2.81, 0.1)\n",
    "y = 4.5 * x + 2.3\n",
    "ax.plot(x, y, color=\"orange\")\n",
    "# plt.savefig(\"local_and_kaggle_scores.png\", dpi=300)"
   ]
  },
  {
   "cell_type": "code",
   "execution_count": null,
   "metadata": {},
   "outputs": [],
   "source": []
  },
  {
   "cell_type": "code",
   "execution_count": null,
   "metadata": {},
   "outputs": [],
   "source": []
  },
  {
   "cell_type": "code",
   "execution_count": null,
   "metadata": {},
   "outputs": [],
   "source": []
  },
  {
   "cell_type": "code",
   "execution_count": null,
   "metadata": {},
   "outputs": [],
   "source": []
  },
  {
   "cell_type": "code",
   "execution_count": null,
   "metadata": {},
   "outputs": [],
   "source": []
  },
  {
   "cell_type": "code",
   "execution_count": 6,
   "metadata": {},
   "outputs": [],
   "source": [
    "import itertools\n",
    "import pandas as pd"
   ]
  },
  {
   "cell_type": "code",
   "execution_count": 7,
   "metadata": {},
   "outputs": [],
   "source": [
    "df = pd.read_csv(\"test_points.csv\", sep=\"\\t\")"
   ]
  },
  {
   "cell_type": "code",
   "execution_count": 8,
   "metadata": {},
   "outputs": [
    {
     "data": {
      "text/html": [
       "<div>\n",
       "<style scoped>\n",
       "    .dataframe tbody tr th:only-of-type {\n",
       "        vertical-align: middle;\n",
       "    }\n",
       "\n",
       "    .dataframe tbody tr th {\n",
       "        vertical-align: top;\n",
       "    }\n",
       "\n",
       "    .dataframe thead th {\n",
       "        text-align: right;\n",
       "    }\n",
       "</style>\n",
       "<table border=\"1\" class=\"dataframe\">\n",
       "  <thead>\n",
       "    <tr style=\"text-align: right;\">\n",
       "      <th></th>\n",
       "      <th>file_name</th>\n",
       "      <th>point_index_list</th>\n",
       "    </tr>\n",
       "  </thead>\n",
       "  <tbody>\n",
       "    <tr>\n",
       "      <th>0</th>\n",
       "      <td>c59b2834147079f3e34627f1e75656b1.jpg</td>\n",
       "      <td>[742, 385, 583, 758, 132, 634, 779, 219, 750, ...</td>\n",
       "    </tr>\n",
       "    <tr>\n",
       "      <th>1</th>\n",
       "      <td>85629eb20fdbbb98d0ee20ed9f3ba233.jpg</td>\n",
       "      <td>[456, 549, 339, 804, 143, 241, 121, 291, 835, ...</td>\n",
       "    </tr>\n",
       "    <tr>\n",
       "      <th>2</th>\n",
       "      <td>4df0124462ce32e0e8dd5d96a7d6496d.jpg</td>\n",
       "      <td>[343, 907, 662, 470, 551, 1, 15, 144, 126, 557...</td>\n",
       "    </tr>\n",
       "    <tr>\n",
       "      <th>3</th>\n",
       "      <td>fca085b03b834d9d94170e8f1453276e.jpg</td>\n",
       "      <td>[916, 842, 715, 351, 147, 808, 893, 785, 591, ...</td>\n",
       "    </tr>\n",
       "    <tr>\n",
       "      <th>4</th>\n",
       "      <td>67b598c8621b1f7135dfbc1c47fe2893.jpg</td>\n",
       "      <td>[818, 186, 469, 337, 768, 358, 887, 207, 145, ...</td>\n",
       "    </tr>\n",
       "  </tbody>\n",
       "</table>\n",
       "</div>"
      ],
      "text/plain": [
       "                              file_name  \\\n",
       "0  c59b2834147079f3e34627f1e75656b1.jpg   \n",
       "1  85629eb20fdbbb98d0ee20ed9f3ba233.jpg   \n",
       "2  4df0124462ce32e0e8dd5d96a7d6496d.jpg   \n",
       "3  fca085b03b834d9d94170e8f1453276e.jpg   \n",
       "4  67b598c8621b1f7135dfbc1c47fe2893.jpg   \n",
       "\n",
       "                                    point_index_list  \n",
       "0  [742, 385, 583, 758, 132, 634, 779, 219, 750, ...  \n",
       "1  [456, 549, 339, 804, 143, 241, 121, 291, 835, ...  \n",
       "2  [343, 907, 662, 470, 551, 1, 15, 144, 126, 557...  \n",
       "3  [916, 842, 715, 351, 147, 808, 893, 785, 591, ...  \n",
       "4  [818, 186, 469, 337, 768, 358, 887, 207, 145, ...  "
      ]
     },
     "execution_count": 8,
     "metadata": {},
     "output_type": "execute_result"
    }
   ],
   "source": [
    "df.head()"
   ]
  },
  {
   "cell_type": "code",
   "execution_count": 9,
   "metadata": {},
   "outputs": [],
   "source": [
    "df[\"point_index_list\"] = df[\"point_index_list\"].apply(eval)"
   ]
  },
  {
   "cell_type": "code",
   "execution_count": 10,
   "metadata": {},
   "outputs": [
    {
     "data": {
      "text/plain": [
       "<matplotlib.axes._subplots.AxesSubplot at 0x11d25ff10>"
      ]
     },
     "execution_count": 10,
     "metadata": {},
     "output_type": "execute_result"
    },
    {
     "data": {
      "image/png": "[encoded data removed]",
      "text/plain": [
       "<Figure size 432x288 with 1 Axes>"
      ]
     },
     "metadata": {
      "needs_background": "light"
     },
     "output_type": "display_data"
    }
   ],
   "source": [
    "pd.Series(itertools.chain.from_iterable(df[\"point_index_list\"])).hist()"
   ]
  },
  {
   "cell_type": "markdown",
   "metadata": {},
   "source": [
    "Каждая из 971 точки равновероятно встречается в 30 финальных точках, по которым оцениваются модели."
   ]
  },
  {
   "cell_type": "code",
   "execution_count": null,
   "metadata": {},
   "outputs": [],
   "source": []
  }
 ],
 "metadata": {
  "kernelspec": {
   "display_name": "Python 3",
   "language": "python",
   "name": "python3"
  },
  "language_info": {
   "codemirror_mode": {
    "name": "ipython",
    "version": 3
   },
   "file_extension": ".py",
   "mimetype": "text/x-python",
   "name": "python",
   "nbconvert_exporter": "python",
   "pygments_lexer": "ipython3",
   "version": "3.8.1"
  }
 },
 "nbformat": 4,
 "nbformat_minor": 4
}
