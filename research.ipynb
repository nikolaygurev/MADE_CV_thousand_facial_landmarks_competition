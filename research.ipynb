{
 "cells": [
  {
   "cell_type": "markdown",
   "metadata": {
    "colab_type": "text",
    "id": "OoNEZN8zMPn9"
   },
   "source": [
    "# Data loading from Kaggle to Colab"
   ]
  },
  {
   "cell_type": "code",
   "execution_count": 0,
   "metadata": {
    "colab": {},
    "colab_type": "code",
    "id": "35psYkfn0h3I"
   },
   "outputs": [],
   "source": [
    "# Upload to Colab:\n",
    "\n",
    "# kaggle.json\n",
    "\n",
    "# dataset.py\n",
    "# funcs.py\n",
    "# train_validate_predict.py\n",
    "\n",
    "# utils/train_indices.txt\n",
    "# utils/val_indices.txt\n",
    "# test_points.csv"
   ]
  },
  {
   "cell_type": "code",
   "execution_count": 0,
   "metadata": {
    "colab": {},
    "colab_type": "code",
    "id": "UB53lQrV-GqO"
   },
   "outputs": [],
   "source": [
    "# !ls -alh\n",
    "# print()\n",
    "\n",
    "!pip install kaggle\n",
    "# print()\n",
    "\n",
    "!pip install pretrainedmodels\n",
    "# print()\n",
    "\n",
    "!mkdir ~/.kaggle\n",
    "# !ls -alh ~/\n",
    "# print()\n",
    "\n",
    "!cp kaggle.json ~/.kaggle/\n",
    "# !ls -alh ~/.kaggle\n",
    "# print()\n",
    "\n",
    "!chmod 600 ~/.kaggle/kaggle.json\n",
    "# !ls -alh ~/.kaggle\n",
    "# print()\n",
    "\n",
    "!kaggle datasets list --mine\n",
    "# print()\n",
    "!kaggle datasets download -d nikolaygurev/made-thousand-facial-landmarks-data\n",
    "# print()\n",
    "\n",
    "!unzip made-thousand-facial-landmarks-data.zip\n",
    "# print()\n",
    "!rm made-thousand-facial-landmarks-data.zip\n",
    "# print()"
   ]
  },
  {
   "cell_type": "code",
   "execution_count": 0,
   "metadata": {
    "colab": {},
    "colab_type": "code",
    "id": "mkEqoM9l-GqR"
   },
   "outputs": [],
   "source": [
    "# Move test_points.csv to data/test/test_points.csv"
   ]
  },
  {
   "cell_type": "markdown",
   "metadata": {
    "colab_type": "text",
    "id": "3ky0CJt_wXw3"
   },
   "source": [
    "# Imports"
   ]
  },
  {
   "cell_type": "code",
   "execution_count": 0,
   "metadata": {
    "colab": {},
    "colab_type": "code",
    "id": "l0h0eCVWckX6"
   },
   "outputs": [],
   "source": [
    "import pickle\n",
    "import time\n",
    "from typing import NamedTuple\n",
    "\n",
    "import numpy as np\n",
    "import pretrainedmodels\n",
    "import torch\n",
    "import torch.nn as nn\n",
    "import torch.optim as optim\n",
    "import torchvision.models as models\n",
    "from torch.nn import functional as fnn\n",
    "from torch.utils import data\n",
    "from torchvision import transforms\n",
    "\n",
    "from dataset import (\n",
    "    CROP_SIZE,\n",
    "    NUM_PTS,\n",
    "    CropCenter,\n",
    "    ScaleMinSideToSize,\n",
    "    ThousandLandmarksDataset,\n",
    "    TransformByKeys,\n",
    ")\n",
    "from train_validate_predict import predict, train, validate\n",
    "from funcs import create_submission, time_measurer"
   ]
  },
  {
   "cell_type": "code",
   "execution_count": 5,
   "metadata": {
    "colab": {
     "base_uri": "https://localhost:8080/",
     "height": 34
    },
    "colab_type": "code",
    "id": "9WZkSeANwKGy",
    "outputId": "39ff5b1c-b891-4cb1-89d8-f81879691953"
   },
   "outputs": [
    {
     "data": {
      "text/plain": [
       "<torch._C.Generator at 0x7fbef3d57050>"
      ]
     },
     "execution_count": 5,
     "metadata": {
      "tags": []
     },
     "output_type": "execute_result"
    }
   ],
   "source": [
    "np.random.seed(0)\n",
    "torch.manual_seed(0)"
   ]
  },
  {
   "cell_type": "markdown",
   "metadata": {
    "colab_type": "text",
    "id": "f9_4_eV8solX"
   },
   "source": [
    "\n",
    "\n",
    "\n",
    "\n",
    "\n",
    "\n",
    "\n",
    "\n",
    "\n",
    "\n",
    "\n",
    "\n",
    "\n",
    "\n",
    "\n",
    "\n",
    "\n",
    "\n",
    "\n",
    "\n",
    "\n",
    "\n",
    "\n",
    "# Datasets loading"
   ]
  },
  {
   "cell_type": "code",
   "execution_count": 6,
   "metadata": {
    "colab": {
     "base_uri": "https://localhost:8080/",
     "height": 85
    },
    "colab_type": "code",
    "id": "_-CxmuGkwfI3",
    "outputId": "86766684-07d6-4a73-813e-ceb1272b916b"
   },
   "outputs": [
    {
     "name": "stdout",
     "output_type": "stream",
     "text": [
      "Setting training parameters...\n",
      "TrainingParameters(name='resnet101_batch_64', batch_size=64, train_frac=1.0, val_frac=1.0, gpu=True)\n",
      "done in 0.001 seconds\n",
      "\n"
     ]
    }
   ],
   "source": [
    "point_time = time.time()\n",
    "print(\"Setting training parameters...\")\n",
    "\n",
    "\n",
    "class TrainingParameters(NamedTuple):\n",
    "    name: str\n",
    "    batch_size: int = 512\n",
    "    train_frac: float = 1.0\n",
    "    val_frac: float = 1.0\n",
    "    gpu: bool = False\n",
    "\n",
    "\n",
    "params = TrainingParameters(\n",
    "    \"resnet101_batch_64\",\n",
    "    batch_size=64,\n",
    "    train_frac=1.0,\n",
    "    val_frac=1.0,\n",
    "    gpu=True,\n",
    ")\n",
    "print(params)\n",
    "\n",
    "point_time = time_measurer(point_time)"
   ]
  },
  {
   "cell_type": "code",
   "execution_count": 7,
   "metadata": {
    "colab": {
     "base_uri": "https://localhost:8080/",
     "height": 204
    },
    "colab_type": "code",
    "id": "b8BUbgz92-fP",
    "outputId": "25248665-2fcc-4104-9af0-6646327b7065",
    "scrolled": true
   },
   "outputs": [
    {
     "name": "stdout",
     "output_type": "stream",
     "text": [
      "Creating transforms composition...\n",
      "done in 3.0 seconds\n",
      "\n",
      "Reading train dataset...\n"
     ]
    },
    {
     "name": "stderr",
     "output_type": "stream",
     "text": [
      "393931it [09:00, 728.41it/s]\n"
     ]
    },
    {
     "name": "stdout",
     "output_type": "stream",
     "text": [
      "done in 14 minutes, 13 seconds\n",
      "\n",
      "Reading valid dataset...\n"
     ]
    },
    {
     "name": "stderr",
     "output_type": "stream",
     "text": [
      "393931it [02:16, 2894.86it/s]\n"
     ]
    },
    {
     "name": "stdout",
     "output_type": "stream",
     "text": [
      "done in 3 minutes, 37 seconds\n",
      "\n"
     ]
    }
   ],
   "source": [
    "print(\"Creating transforms composition...\")\n",
    "transforms_composition = transforms.Compose(\n",
    "    [\n",
    "        # Here: np.ndarray\n",
    "        # shape=H x W x 3\n",
    "        # 0 <= values <= 255, dtype=uint8\n",
    "        \n",
    "        ScaleMinSideToSize((CROP_SIZE, CROP_SIZE)),\n",
    "        CropCenter(CROP_SIZE),\n",
    "        # Here: np.ndarray\n",
    "        # shape=CROP_SIZE x CROP_SIZE x 3 (H x W x 3)\n",
    "        # 0 <= values <= 255, dtype=uint8\n",
    "        \n",
    "        # torchvision version 0.5 can work without ToPILImage transformation\n",
    "#         TransformByKeys(transforms.ToPILImage(), (\"image\",)), \n",
    "#         # Here: PIL.Image.Image\n",
    "#         # 0 <= values <= 255, dtype=int\n",
    "        \n",
    "        # ToTensor works the same regardless of whether ToPILImage is used\n",
    "        TransformByKeys(transforms.ToTensor(), (\"image\",)),\n",
    "        # Here: torch.Tensor\n",
    "        # shape=3 x CROP_SIZE x CROP_SIZE (3 x H x W)\n",
    "        # 0 <= values <= 1, dtype=torch.float32\n",
    "        \n",
    "        TransformByKeys(\n",
    "            transforms.Normalize(mean=[0.5, 0.5, 0.5], std=[0.5, 0.5, 0.5]), (\"image\",),\n",
    "        ),\n",
    "        # Here: torch.Tensor\n",
    "        # shape=3 x CROP_SIZE x CROP_SIZE (3 x H x W)\n",
    "        # -1 <= values <= 1, dtype=torch.float32\n",
    "    ]\n",
    ")\n",
    "\n",
    "point_time = time_measurer(point_time)\n",
    "\n",
    "print(\"Reading train dataset...\")\n",
    "train_dataset = ThousandLandmarksDataset(\n",
    "    \"data/train\", transforms_composition, split=\"train\", data_frac=params.train_frac\n",
    ")\n",
    "\n",
    "\n",
    "point_time = time_measurer(point_time)\n",
    "\n",
    "print(\"Reading valid dataset...\")\n",
    "val_dataset = ThousandLandmarksDataset(\n",
    "    \"data/train\", transforms_composition, split=\"val\", data_frac=params.val_frac\n",
    ")\n",
    "\n",
    "point_time = time_measurer(point_time)"
   ]
  },
  {
   "cell_type": "code",
   "execution_count": 8,
   "metadata": {
    "colab": {
     "base_uri": "https://localhost:8080/",
     "height": 119
    },
    "colab_type": "code",
    "id": "lant0i5BSHhb",
    "outputId": "7efe1998-b127-43b6-eb85-d4de96e82ebd",
    "scrolled": true
   },
   "outputs": [
    {
     "name": "stdout",
     "output_type": "stream",
     "text": [
      "Creating train dataloader...\n",
      "done in 0.014 seconds\n",
      "\n",
      "Creating valid dataloader...\n",
      "done in 0.0 seconds\n",
      "\n"
     ]
    }
   ],
   "source": [
    "print(\"Creating train dataloader...\")\n",
    "train_dataloader = data.DataLoader(\n",
    "    train_dataset,\n",
    "    batch_size=params.batch_size,\n",
    "    num_workers=4,\n",
    "    pin_memory=True,\n",
    "    shuffle=True,\n",
    "    drop_last=True,\n",
    ")\n",
    "\n",
    "point_time = time_measurer(point_time)\n",
    "\n",
    "print(\"Creating valid dataloader...\")\n",
    "val_dataloader = data.DataLoader(\n",
    "    val_dataset,\n",
    "    batch_size=params.batch_size,\n",
    "    num_workers=4,\n",
    "    pin_memory=True,\n",
    "    shuffle=False,\n",
    "    drop_last=False,\n",
    ")\n",
    "\n",
    "point_time = time_measurer(point_time)"
   ]
  },
  {
   "cell_type": "markdown",
   "metadata": {
    "colab_type": "text",
    "id": "RlBVvRGIsSyn"
   },
   "source": [
    "# Model creating"
   ]
  },
  {
   "cell_type": "code",
   "execution_count": 0,
   "metadata": {
    "colab": {},
    "colab_type": "code",
    "id": "Rl6u6Bdi5Bpr"
   },
   "outputs": [],
   "source": [
    "# print(pretrainedmodels.model_names, \"\\n\")\n",
    "# print(pretrainedmodels.pretrained_settings[\"xception\"])"
   ]
  },
  {
   "cell_type": "code",
   "execution_count": 0,
   "metadata": {
    "colab": {},
    "colab_type": "code",
    "id": "QsciHuYu20Dd"
   },
   "outputs": [],
   "source": [
    "# print(\"Creating model...\")\n",
    "# model = pretrainedmodels.__dict__[\"xception\"](num_classes=1000, pretrained=\"imagenet\")\n",
    "# model.last_linear = nn.Linear(model.last_linear.in_features, 2 * NUM_PTS, bias=True)\n",
    "\n",
    "# point_time = time_measurer(point_time)"
   ]
  },
  {
   "cell_type": "code",
   "execution_count": 11,
   "metadata": {
    "colab": {
     "base_uri": "https://localhost:8080/",
     "height": 154,
     "referenced_widgets": [
      "1934e19def6243edb3fdfb52756435a6",
      "f3d020b8590742bc932adccb0bff5a94",
      "48c4da574ead4ac2b6e0eb93d46fd675",
      "3c0c02a4e4e74aea8f078b4e62dcd335",
      "d2982ca4557246dda94922ec4e86ea12",
      "97fd389e39e74bdaa9744a559b83f2e6",
      "aef698f3043f4f8f841eb23752f7e0ee",
      "76ae0721653c46bfadadcb8920371eba"
     ]
    },
    "colab_type": "code",
    "id": "_BdFouI4u6nt",
    "outputId": "a253b01b-54d8-443b-c4a8-c00d88098e39"
   },
   "outputs": [
    {
     "name": "stdout",
     "output_type": "stream",
     "text": [
      "Creating model...\n"
     ]
    },
    {
     "name": "stderr",
     "output_type": "stream",
     "text": [
      "Downloading: \"https://download.pytorch.org/models/resnet101-5d3b4d8f.pth\" to /root/.cache/torch/checkpoints/resnet101-5d3b4d8f.pth\n"
     ]
    },
    {
     "data": {
      "application/vnd.jupyter.widget-view+json": {
       "model_id": "1934e19def6243edb3fdfb52756435a6",
       "version_major": 2,
       "version_minor": 0
      },
      "text/plain": [
       "HBox(children=(FloatProgress(value=0.0, max=178728960.0), HTML(value='')))"
      ]
     },
     "metadata": {
      "tags": []
     },
     "output_type": "display_data"
    },
    {
     "name": "stdout",
     "output_type": "stream",
     "text": [
      "\n",
      "done in 4.7 seconds\n",
      "\n"
     ]
    }
   ],
   "source": [
    "print(\"Creating model...\")\n",
    "model = models.resnet101(pretrained=True)\n",
    "model.fc = nn.Linear(model.fc.in_features, 2 * NUM_PTS, bias=True)\n",
    "\n",
    "point_time = time_measurer(point_time)"
   ]
  },
  {
   "cell_type": "code",
   "execution_count": 12,
   "metadata": {
    "colab": {
     "base_uri": "https://localhost:8080/",
     "height": 85
    },
    "colab_type": "code",
    "id": "QPq4r44mu54a",
    "outputId": "8e23dd46-0aec-4553-e955-1dcc7e2a022a"
   },
   "outputs": [
    {
     "name": "stdout",
     "output_type": "stream",
     "text": [
      "Moving model to device...\n",
      "device: cuda:0\n",
      "done in 10.0 seconds\n",
      "\n"
     ]
    }
   ],
   "source": [
    "print(\"Moving model to device...\")\n",
    "device = torch.device(\"cuda: 0\") if params.gpu else torch.device(\"cpu\")\n",
    "print(f\"device: {device}\")\n",
    "model.to(device)\n",
    "\n",
    "point_time = time_measurer(point_time)"
   ]
  },
  {
   "cell_type": "markdown",
   "metadata": {
    "colab_type": "text",
    "id": "2zjzskiVssvJ"
   },
   "source": [
    "# Model training"
   ]
  },
  {
   "cell_type": "code",
   "execution_count": 13,
   "metadata": {
    "colab": {
     "base_uri": "https://localhost:8080/",
     "height": 68
    },
    "colab_type": "code",
    "id": "y0UFfgJNtm_o",
    "outputId": "b54b3b12-3ecd-47ab-e5e8-f89d5a521587"
   },
   "outputs": [
    {
     "name": "stdout",
     "output_type": "stream",
     "text": [
      "Creating optimizer and loss function...\n",
      "done in 0.01 seconds\n",
      "\n"
     ]
    }
   ],
   "source": [
    "print(\"Creating optimizer and loss function...\")\n",
    "optimizer = optim.Adam(model.parameters(), lr=0.001, amsgrad=True)\n",
    "loss_fn = fnn.mse_loss\n",
    "best_val_loss = np.inf\n",
    "\n",
    "point_time = time_measurer(point_time)"
   ]
  },
  {
   "cell_type": "code",
   "execution_count": 0,
   "metadata": {
    "colab": {},
    "colab_type": "code",
    "id": "VFSZQGbwtlXW"
   },
   "outputs": [],
   "source": [
    "def train_and_validate(epoch_range, optimizer_, best_val_loss=None):\n",
    "    for epoch in epoch_range:\n",
    "        train_loss = train(model, train_dataloader, loss_fn, optimizer_, device=device)\n",
    "        val_loss = validate(model, val_dataloader, loss_fn, device=device)\n",
    "        train_loss = round(train_loss, 3)\n",
    "        val_loss = round(val_loss, 3)\n",
    "        print(\n",
    "            f\"\\nEpoch #{epoch:2}:\\ttrain loss: {train_loss:5}\\tval loss: {val_loss:5}\\n\"\n",
    "        )\n",
    "\n",
    "        if val_loss < best_val_loss:\n",
    "            best_val_loss = val_loss\n",
    "            with open(f\"{params.name}_epoch_{epoch}_best.pth\", \"wb\") as fp:\n",
    "                torch.save(model.state_dict(), fp)\n",
    "    \n",
    "    return best_val_loss"
   ]
  },
  {
   "cell_type": "code",
   "execution_count": 15,
   "metadata": {
    "colab": {
     "base_uri": "https://localhost:8080/",
     "height": 1000
    },
    "colab_type": "code",
    "id": "TF2TrWe3AkGY",
    "outputId": "75a888f0-3605-4d2d-bfd6-5797d5035dec"
   },
   "outputs": [
    {
     "name": "stderr",
     "output_type": "stream",
     "text": [
      "training...: 100%|██████████| 4927/4927 [24:26<00:00,  3.36it/s]\n",
      "validation...: 100%|██████████| 1228/1228 [02:24<00:00,  8.51it/s]\n"
     ]
    },
    {
     "name": "stdout",
     "output_type": "stream",
     "text": [
      "\n",
      "Epoch # 0:\ttrain loss: 21.237\tval loss: 2.923\n",
      "\n"
     ]
    },
    {
     "name": "stderr",
     "output_type": "stream",
     "text": [
      "training...: 100%|██████████| 4927/4927 [24:14<00:00,  3.39it/s]\n",
      "validation...: 100%|██████████| 1228/1228 [02:13<00:00,  9.19it/s]\n"
     ]
    },
    {
     "name": "stdout",
     "output_type": "stream",
     "text": [
      "\n",
      "Epoch # 1:\ttrain loss: 2.837\tval loss: 2.496\n",
      "\n"
     ]
    },
    {
     "name": "stderr",
     "output_type": "stream",
     "text": [
      "training...: 100%|██████████| 4927/4927 [24:03<00:00,  3.41it/s]\n",
      "validation...: 100%|██████████| 1228/1228 [02:07<00:00,  9.61it/s]\n"
     ]
    },
    {
     "name": "stdout",
     "output_type": "stream",
     "text": [
      "\n",
      "Epoch # 2:\ttrain loss: 2.365\tval loss: 2.172\n",
      "\n"
     ]
    },
    {
     "name": "stderr",
     "output_type": "stream",
     "text": [
      "training...: 100%|██████████| 4927/4927 [24:02<00:00,  3.42it/s]\n",
      "validation...: 100%|██████████| 1228/1228 [02:07<00:00,  9.62it/s]\n"
     ]
    },
    {
     "name": "stdout",
     "output_type": "stream",
     "text": [
      "\n",
      "Epoch # 3:\ttrain loss: 2.045\tval loss: 2.057\n",
      "\n"
     ]
    },
    {
     "name": "stderr",
     "output_type": "stream",
     "text": [
      "training...: 100%|██████████| 4927/4927 [24:03<00:00,  3.41it/s]\n",
      "validation...: 100%|██████████| 1228/1228 [02:07<00:00,  9.66it/s]\n"
     ]
    },
    {
     "name": "stdout",
     "output_type": "stream",
     "text": [
      "\n",
      "Epoch # 4:\ttrain loss: 1.872\tval loss: 1.883\n",
      "\n"
     ]
    },
    {
     "name": "stderr",
     "output_type": "stream",
     "text": [
      "training...: 100%|██████████| 4927/4927 [24:04<00:00,  3.41it/s]\n",
      "validation...: 100%|██████████| 1228/1228 [02:07<00:00,  9.65it/s]\n"
     ]
    },
    {
     "name": "stdout",
     "output_type": "stream",
     "text": [
      "\n",
      "Epoch # 5:\ttrain loss: 1.747\tval loss: 1.811\n",
      "\n"
     ]
    },
    {
     "name": "stderr",
     "output_type": "stream",
     "text": [
      "training...: 100%|██████████| 4927/4927 [24:04<00:00,  3.41it/s]\n",
      "validation...: 100%|██████████| 1228/1228 [02:07<00:00,  9.63it/s]\n"
     ]
    },
    {
     "name": "stdout",
     "output_type": "stream",
     "text": [
      "\n",
      "Epoch # 6:\ttrain loss: 1.643\tval loss:  1.71\n",
      "\n"
     ]
    },
    {
     "name": "stderr",
     "output_type": "stream",
     "text": [
      "training...: 100%|██████████| 4927/4927 [24:04<00:00,  3.41it/s]\n",
      "validation...: 100%|██████████| 1228/1228 [02:07<00:00,  9.63it/s]\n"
     ]
    },
    {
     "name": "stdout",
     "output_type": "stream",
     "text": [
      "\n",
      "Epoch # 7:\ttrain loss: 1.555\tval loss: 1.699\n",
      "\n"
     ]
    },
    {
     "name": "stderr",
     "output_type": "stream",
     "text": [
      "training...: 100%|██████████| 4927/4927 [24:03<00:00,  3.41it/s]\n",
      "validation...: 100%|██████████| 1228/1228 [02:07<00:00,  9.59it/s]\n",
      "training...:   0%|          | 0/4927 [00:00<?, ?it/s]"
     ]
    },
    {
     "name": "stdout",
     "output_type": "stream",
     "text": [
      "\n",
      "Epoch # 8:\ttrain loss: 1.476\tval loss: 1.722\n",
      "\n"
     ]
    },
    {
     "name": "stderr",
     "output_type": "stream",
     "text": [
      "training...: 100%|██████████| 4927/4927 [24:04<00:00,  3.41it/s]\n",
      "validation...: 100%|██████████| 1228/1228 [02:08<00:00,  9.59it/s]\n"
     ]
    },
    {
     "name": "stdout",
     "output_type": "stream",
     "text": [
      "\n",
      "Epoch # 9:\ttrain loss:  1.41\tval loss: 1.647\n",
      "\n"
     ]
    },
    {
     "name": "stderr",
     "output_type": "stream",
     "text": [
      "training...: 100%|██████████| 4927/4927 [24:03<00:00,  3.41it/s]\n",
      "validation...: 100%|██████████| 1228/1228 [02:07<00:00,  9.65it/s]\n",
      "training...:   0%|          | 0/4927 [00:00<?, ?it/s]"
     ]
    },
    {
     "name": "stdout",
     "output_type": "stream",
     "text": [
      "\n",
      "Epoch #10:\ttrain loss: 1.354\tval loss: 1.655\n",
      "\n"
     ]
    },
    {
     "name": "stderr",
     "output_type": "stream",
     "text": [
      "training...: 100%|██████████| 4927/4927 [24:03<00:00,  3.41it/s]\n",
      "validation...: 100%|██████████| 1228/1228 [02:07<00:00,  9.61it/s]\n"
     ]
    },
    {
     "name": "stdout",
     "output_type": "stream",
     "text": [
      "\n",
      "Epoch #11:\ttrain loss: 1.295\tval loss: 1.631\n",
      "\n"
     ]
    },
    {
     "name": "stderr",
     "output_type": "stream",
     "text": [
      "training...: 100%|██████████| 4927/4927 [24:03<00:00,  3.41it/s]\n",
      "validation...: 100%|██████████| 1228/1228 [02:07<00:00,  9.60it/s]\n",
      "training...:   0%|          | 0/4927 [00:00<?, ?it/s]"
     ]
    },
    {
     "name": "stdout",
     "output_type": "stream",
     "text": [
      "\n",
      "Epoch #12:\ttrain loss: 1.232\tval loss: 1.697\n",
      "\n"
     ]
    },
    {
     "name": "stderr",
     "output_type": "stream",
     "text": [
      "training...: 100%|██████████| 4927/4927 [24:02<00:00,  3.41it/s]\n",
      "validation...: 100%|██████████| 1228/1228 [02:07<00:00,  9.64it/s]\n",
      "training...:   0%|          | 0/4927 [00:00<?, ?it/s]"
     ]
    },
    {
     "name": "stdout",
     "output_type": "stream",
     "text": [
      "\n",
      "Epoch #13:\ttrain loss: 1.187\tval loss: 1.662\n",
      "\n"
     ]
    },
    {
     "name": "stderr",
     "output_type": "stream",
     "text": [
      "training...: 100%|██████████| 4927/4927 [24:03<00:00,  3.41it/s]\n",
      "validation...: 100%|██████████| 1228/1228 [02:08<00:00,  9.55it/s]\n",
      "training...:   0%|          | 0/4927 [00:00<?, ?it/s]"
     ]
    },
    {
     "name": "stdout",
     "output_type": "stream",
     "text": [
      "\n",
      "Epoch #14:\ttrain loss: 1.101\tval loss: 1.642\n",
      "\n"
     ]
    },
    {
     "name": "stderr",
     "output_type": "stream",
     "text": [
      "training...: 100%|██████████| 4927/4927 [24:04<00:00,  3.41it/s]\n",
      "validation...: 100%|██████████| 1228/1228 [02:07<00:00,  9.60it/s]\n"
     ]
    },
    {
     "name": "stdout",
     "output_type": "stream",
     "text": [
      "\n",
      "Epoch #15:\ttrain loss:  1.03\tval loss: 1.605\n",
      "\n"
     ]
    },
    {
     "name": "stderr",
     "output_type": "stream",
     "text": [
      "training...: 100%|██████████| 4927/4927 [24:02<00:00,  3.41it/s]\n",
      "validation...: 100%|██████████| 1228/1228 [02:08<00:00,  9.59it/s]\n"
     ]
    },
    {
     "name": "stdout",
     "output_type": "stream",
     "text": [
      "\n",
      "Epoch #16:\ttrain loss: 0.968\tval loss:  1.56\n",
      "\n"
     ]
    },
    {
     "name": "stderr",
     "output_type": "stream",
     "text": [
      "training...: 100%|██████████| 4927/4927 [24:05<00:00,  3.41it/s]\n",
      "validation...: 100%|██████████| 1228/1228 [02:08<00:00,  9.53it/s]\n"
     ]
    },
    {
     "name": "stdout",
     "output_type": "stream",
     "text": [
      "\n",
      "Epoch #17:\ttrain loss: 0.894\tval loss: 1.538\n",
      "\n"
     ]
    },
    {
     "name": "stderr",
     "output_type": "stream",
     "text": [
      "training...: 100%|██████████| 4927/4927 [24:05<00:00,  3.41it/s]\n",
      "validation...: 100%|██████████| 1228/1228 [02:07<00:00,  9.62it/s]\n",
      "training...:   0%|          | 0/4927 [00:00<?, ?it/s]"
     ]
    },
    {
     "name": "stdout",
     "output_type": "stream",
     "text": [
      "\n",
      "Epoch #18:\ttrain loss: 0.837\tval loss: 1.544\n",
      "\n"
     ]
    },
    {
     "name": "stderr",
     "output_type": "stream",
     "text": [
      "training...: 100%|██████████| 4927/4927 [24:03<00:00,  3.41it/s]\n",
      "validation...: 100%|██████████| 1228/1228 [02:08<00:00,  9.58it/s]"
     ]
    },
    {
     "name": "stdout",
     "output_type": "stream",
     "text": [
      "\n",
      "Epoch #19:\ttrain loss: 0.791\tval loss:  1.54\n",
      "\n"
     ]
    },
    {
     "name": "stderr",
     "output_type": "stream",
     "text": [
      "\n"
     ]
    }
   ],
   "source": [
    "best_val_loss = train_and_validate(range(20), optimizer, best_val_loss)"
   ]
  },
  {
   "cell_type": "code",
   "execution_count": 0,
   "metadata": {
    "colab": {},
    "colab_type": "code",
    "id": "JSzmozB683lv"
   },
   "outputs": [],
   "source": [
    "best_val_loss = train_and_validate(range(20, 40), optimizer, best_val_loss)"
   ]
  },
  {
   "cell_type": "markdown",
   "metadata": {
    "colab_type": "text",
    "id": "F0v4rcqVsMFC"
   },
   "source": [
    "# Test dataset prediction"
   ]
  },
  {
   "cell_type": "code",
   "execution_count": 0,
   "metadata": {
    "colab": {},
    "colab_type": "code",
    "id": "ltnWR6_xuSH0"
   },
   "outputs": [],
   "source": [
    "def make_test_prediction(model_state_file):\n",
    "    test_dataset = ThousandLandmarksDataset(\n",
    "        \"data/test\", transforms_composition, split=\"test\", data_frac=1.0\n",
    "    )\n",
    "    test_dataloader = data.DataLoader(\n",
    "        test_dataset,\n",
    "        batch_size=params.batch_size,\n",
    "        num_workers=4,\n",
    "        pin_memory=True,\n",
    "        shuffle=False,\n",
    "        drop_last=False,\n",
    "    )\n",
    "\n",
    "    with open(model_state_file, \"rb\") as fp:\n",
    "        best_state_dict = torch.load(fp, map_location=\"cpu\")\n",
    "        print(model.load_state_dict(best_state_dict))\n",
    "\n",
    "    test_predictions = predict(model, test_dataloader, device)\n",
    "\n",
    "    with open(f\"{params.name}_test_predictions.pkl\", \"wb\") as fp:\n",
    "        pickle.dump(\n",
    "            {\"image_names\": test_dataset.image_names, \"landmarks\": test_predictions}, fp\n",
    "        )\n",
    "\n",
    "    create_submission(\"data\", test_predictions, f\"{params.name}_submit.csv\")"
   ]
  },
  {
   "cell_type": "code",
   "execution_count": 0,
   "metadata": {
    "colab": {},
    "colab_type": "code",
    "id": "nUFLIkf5-Gq6"
   },
   "outputs": [],
   "source": [
    "make_test_prediction(f\"{params.name}_epoch_19_best.pth\")"
   ]
  },
  {
   "cell_type": "code",
   "execution_count": 0,
   "metadata": {
    "colab": {},
    "colab_type": "code",
    "id": "bQdqPzHlHoTD"
   },
   "outputs": [],
   "source": []
  }
 ],
 "metadata": {
  "accelerator": "GPU",
  "colab": {
   "collapsed_sections": [],
   "machine_shape": "hm",
   "name": "research.ipynb",
   "provenance": []
  },
  "kernelspec": {
   "display_name": "Python 3",
   "language": "python",
   "name": "python3"
  },
  "language_info": {
   "codemirror_mode": {
    "name": "ipython",
    "version": 3
   },
   "file_extension": ".py",
   "mimetype": "text/x-python",
   "name": "python",
   "nbconvert_exporter": "python",
   "pygments_lexer": "ipython3",
   "version": "3.8.1"
  },
  "widgets": {
   "application/vnd.jupyter.widget-state+json": {
    "1934e19def6243edb3fdfb52756435a6": {
     "model_module": "@jupyter-widgets/controls",
     "model_name": "HBoxModel",
     "state": {
      "_dom_classes": [],
      "_model_module": "@jupyter-widgets/controls",
      "_model_module_version": "1.5.0",
      "_model_name": "HBoxModel",
      "_view_count": null,
      "_view_module": "@jupyter-widgets/controls",
      "_view_module_version": "1.5.0",
      "_view_name": "HBoxView",
      "box_style": "",
      "children": [
       "IPY_MODEL_48c4da574ead4ac2b6e0eb93d46fd675",
       "IPY_MODEL_3c0c02a4e4e74aea8f078b4e62dcd335"
      ],
      "layout": "IPY_MODEL_f3d020b8590742bc932adccb0bff5a94"
     }
    },
    "3c0c02a4e4e74aea8f078b4e62dcd335": {
     "model_module": "@jupyter-widgets/controls",
     "model_name": "HTMLModel",
     "state": {
      "_dom_classes": [],
      "_model_module": "@jupyter-widgets/controls",
      "_model_module_version": "1.5.0",
      "_model_name": "HTMLModel",
      "_view_count": null,
      "_view_module": "@jupyter-widgets/controls",
      "_view_module_version": "1.5.0",
      "_view_name": "HTMLView",
      "description": "",
      "description_tooltip": null,
      "layout": "IPY_MODEL_76ae0721653c46bfadadcb8920371eba",
      "placeholder": "​",
      "style": "IPY_MODEL_aef698f3043f4f8f841eb23752f7e0ee",
      "value": " 170M/170M [00:17&lt;00:00, 10.3MB/s]"
     }
    },
    "48c4da574ead4ac2b6e0eb93d46fd675": {
     "model_module": "@jupyter-widgets/controls",
     "model_name": "FloatProgressModel",
     "state": {
      "_dom_classes": [],
      "_model_module": "@jupyter-widgets/controls",
      "_model_module_version": "1.5.0",
      "_model_name": "FloatProgressModel",
      "_view_count": null,
      "_view_module": "@jupyter-widgets/controls",
      "_view_module_version": "1.5.0",
      "_view_name": "ProgressView",
      "bar_style": "success",
      "description": "100%",
      "description_tooltip": null,
      "layout": "IPY_MODEL_97fd389e39e74bdaa9744a559b83f2e6",
      "max": 178728960,
      "min": 0,
      "orientation": "horizontal",
      "style": "IPY_MODEL_d2982ca4557246dda94922ec4e86ea12",
      "value": 178728960
     }
    },
    "76ae0721653c46bfadadcb8920371eba": {
     "model_module": "@jupyter-widgets/base",
     "model_name": "LayoutModel",
     "state": {
      "_model_module": "@jupyter-widgets/base",
      "_model_module_version": "1.2.0",
      "_model_name": "LayoutModel",
      "_view_count": null,
      "_view_module": "@jupyter-widgets/base",
      "_view_module_version": "1.2.0",
      "_view_name": "LayoutView",
      "align_content": null,
      "align_items": null,
      "align_self": null,
      "border": null,
      "bottom": null,
      "display": null,
      "flex": null,
      "flex_flow": null,
      "grid_area": null,
      "grid_auto_columns": null,
      "grid_auto_flow": null,
      "grid_auto_rows": null,
      "grid_column": null,
      "grid_gap": null,
      "grid_row": null,
      "grid_template_areas": null,
      "grid_template_columns": null,
      "grid_template_rows": null,
      "height": null,
      "justify_content": null,
      "justify_items": null,
      "left": null,
      "margin": null,
      "max_height": null,
      "max_width": null,
      "min_height": null,
      "min_width": null,
      "object_fit": null,
      "object_position": null,
      "order": null,
      "overflow": null,
      "overflow_x": null,
      "overflow_y": null,
      "padding": null,
      "right": null,
      "top": null,
      "visibility": null,
      "width": null
     }
    },
    "97fd389e39e74bdaa9744a559b83f2e6": {
     "model_module": "@jupyter-widgets/base",
     "model_name": "LayoutModel",
     "state": {
      "_model_module": "@jupyter-widgets/base",
      "_model_module_version": "1.2.0",
      "_model_name": "LayoutModel",
      "_view_count": null,
      "_view_module": "@jupyter-widgets/base",
      "_view_module_version": "1.2.0",
      "_view_name": "LayoutView",
      "align_content": null,
      "align_items": null,
      "align_self": null,
      "border": null,
      "bottom": null,
      "display": null,
      "flex": null,
      "flex_flow": null,
      "grid_area": null,
      "grid_auto_columns": null,
      "grid_auto_flow": null,
      "grid_auto_rows": null,
      "grid_column": null,
      "grid_gap": null,
      "grid_row": null,
      "grid_template_areas": null,
      "grid_template_columns": null,
      "grid_template_rows": null,
      "height": null,
      "justify_content": null,
      "justify_items": null,
      "left": null,
      "margin": null,
      "max_height": null,
      "max_width": null,
      "min_height": null,
      "min_width": null,
      "object_fit": null,
      "object_position": null,
      "order": null,
      "overflow": null,
      "overflow_x": null,
      "overflow_y": null,
      "padding": null,
      "right": null,
      "top": null,
      "visibility": null,
      "width": null
     }
    },
    "aef698f3043f4f8f841eb23752f7e0ee": {
     "model_module": "@jupyter-widgets/controls",
     "model_name": "DescriptionStyleModel",
     "state": {
      "_model_module": "@jupyter-widgets/controls",
      "_model_module_version": "1.5.0",
      "_model_name": "DescriptionStyleModel",
      "_view_count": null,
      "_view_module": "@jupyter-widgets/base",
      "_view_module_version": "1.2.0",
      "_view_name": "StyleView",
      "description_width": ""
     }
    },
    "d2982ca4557246dda94922ec4e86ea12": {
     "model_module": "@jupyter-widgets/controls",
     "model_name": "ProgressStyleModel",
     "state": {
      "_model_module": "@jupyter-widgets/controls",
      "_model_module_version": "1.5.0",
      "_model_name": "ProgressStyleModel",
      "_view_count": null,
      "_view_module": "@jupyter-widgets/base",
      "_view_module_version": "1.2.0",
      "_view_name": "StyleView",
      "bar_color": null,
      "description_width": "initial"
     }
    },
    "f3d020b8590742bc932adccb0bff5a94": {
     "model_module": "@jupyter-widgets/base",
     "model_name": "LayoutModel",
     "state": {
      "_model_module": "@jupyter-widgets/base",
      "_model_module_version": "1.2.0",
      "_model_name": "LayoutModel",
      "_view_count": null,
      "_view_module": "@jupyter-widgets/base",
      "_view_module_version": "1.2.0",
      "_view_name": "LayoutView",
      "align_content": null,
      "align_items": null,
      "align_self": null,
      "border": null,
      "bottom": null,
      "display": null,
      "flex": null,
      "flex_flow": null,
      "grid_area": null,
      "grid_auto_columns": null,
      "grid_auto_flow": null,
      "grid_auto_rows": null,
      "grid_column": null,
      "grid_gap": null,
      "grid_row": null,
      "grid_template_areas": null,
      "grid_template_columns": null,
      "grid_template_rows": null,
      "height": null,
      "justify_content": null,
      "justify_items": null,
      "left": null,
      "margin": null,
      "max_height": null,
      "max_width": null,
      "min_height": null,
      "min_width": null,
      "object_fit": null,
      "object_position": null,
      "order": null,
      "overflow": null,
      "overflow_x": null,
      "overflow_y": null,
      "padding": null,
      "right": null,
      "top": null,
      "visibility": null,
      "width": null
     }
    }
   }
  }
 },
 "nbformat": 4,
 "nbformat_minor": 1
}
